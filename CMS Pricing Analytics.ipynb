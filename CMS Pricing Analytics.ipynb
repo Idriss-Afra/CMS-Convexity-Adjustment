{
 "cells": [
  {
   "cell_type": "markdown",
   "metadata": {
    "id": "oWvmyhUEVskc"
   },
   "source": [
    "# CMS Pricing Analytics\n",
    "------------------\n",
    "> **Idriss Afra**\n",
    "\n",
    "This project aims to compute the CMS convexity adjustment and price CMS options."
   ]
  },
  {
   "cell_type": "markdown",
   "metadata": {
    "id": "JQajMiTDbHcL"
   },
   "source": [
    "## The Model Description\n",
    "\n",
    "CMS (Constant Maturity Swap) derivatives are widely used because they offer an efficient way to gain exposure to long-term interest rates. The payoff of a CMS product depends on a swap rate $S$ with a fixed maturity $T_f$ paid at $T_p$, and is typically written as : $f\\left(S(T_f, T_0, T_1)\\right)$, where :\n",
    "\n",
    "* $f$ is the payoff function. For example, $f(s)=s$ represents a CMS forward.\n",
    "* $S$ is the swap rate.\n",
    "* $T_f \\ge 0$ is the fixing date, when the swap rate is observed.\n",
    "* $T_0$ is the start date of the swap. Usually, $T_0 = T_f + 2BD$.\n",
    "* $T_1$ is the end date, making $T_1 - T_0$ the tenor (length) of the swap.\n",
    "\n",
    "Assume a cash-flow of $f\\left(S(T_f, T_0, T_1)\\right)$ paid at $T_p  \\in [T_0, T_1]$. Its present value $PV$ under the $T_p$-forward measure $Q^{T_p}$ is :\n",
    "\n",
    "$$\n",
    "PV = B(0, Tp) \\times E^{Q^{T_p}} \\left(f\\left(S(T_f, T_0, T_1)\\right)\\right)\n",
    "$$\n",
    "\n",
    "Where : $B(0, Tp)$ is the zero-coupon price up to $T_p$.\n",
    "\n",
    "To make pricing easier, we change the measure from $Q^{T_p}$ to the level measure $Q^{LVL}$, under which the swap rate $S(t, T_0, T_1)$ behaves like a martingale (i.e., has no drift). Using the Radon-Nikodym change of measure, the PV becomes :   \n",
    "\n",
    "\\begin{equation}\n",
    "\\begin{split}\n",
    "PV & = B(0, Tp) \\times E^{Q^{T_p}} \\left( \\frac{f\\left(S(T_f, T_0, T_1)\\right) \\times B(T_f, T_p) }{B(T_f, T_p)} \\right) \\\\\n",
    "& = LVL(0,T_0, T_1) \\times E^{Q^{LVL}} \\left( \\frac{f\\left(S(T_f, T_0, T_1)\\right) \\times B(T_f, T_p) }{LVL(T_f,T_0, T_1)} \\right) \\\\\n",
    "\\end{split}\n",
    "\\end{equation}\n",
    "\n",
    "Where : $LVL(t,T_0, T_1) = ∑_{T^p_i \\in FixedLegPayDates} DCF_i × B(T_f, T^p_{i})$, with $(DCF_i)_{T^p_i \\in FixedLegPayDates}$ being the fixed leg day count fractions."
   ]
  },
  {
   "cell_type": "markdown",
   "metadata": {
    "id": "bepEFoVMQ2eA"
   },
   "source": [
    "## The TSR Model : Linear Mean-Reversion\n",
    "\n",
    "In the Terminal Swap Rate (TSR) model, we assume that the zero-coupon bond prices $\\left(B(T_f, T^p_i)\\right)_{T^p_i \\in FixedLegPayDates}$, along with $B(T_f, T_p)$, are directly related to the swap rate $S(T_f, T_0, T_1)$ that drives the CMS payoff.\n",
    "\n",
    "This means there exists a function $g$ such that : $ \\frac{B(T_f, T_p)}{LVL(T_f,T_0, T_1)} ≈ g\\left(S(T_f, T_0, T_1)\\right) $\n",
    "\n",
    "In this project, we use the Linear Mean-Reversion TSR method, where : $g(s) := a \\times s + b$.\n",
    "\n",
    "### Calculating the Slope a\n",
    "\n",
    "The coefficient $a$ is defined by :\n",
    "\\begin{equation}\n",
    "\\begin{split}\n",
    "a & = \\frac{d}{dS(T_f, T_0, T_1)} \\left( \\frac{B(T_f, T_p)}{LVL(T_f,T_0, T_1)}  \\right) \\\\\n",
    "& = \\frac{d}{dS(T_f)} \\left( \\frac{B(T_f, T_p)}{∑_{T^p_i \\in FixedLegPayDates} DCF_i × B(T_f, T^p_{i}) } \\right) \\\\\n",
    "\\end{split}\n",
    "\\end{equation}\n",
    "\n",
    "We rewrite this derivative in the context of the [Hull-White One Factor model](https://github.com/Idriss-Afra/Hull-White-One-Factor-Model/blob/main/Hull-White%201F%20Model.ipynb) as :    \n",
    "\n",
    "$$\n",
    "a = \\frac{d}{dX_{T_f}} \\left( \\frac{B(T_f, T_p, X_{T_f})}{∑_{T^p_i \\in FixedLegPayDates} DCF_i × B(T_f, T^p_{i}, X_{T_f})}  \\right)_{S(T_f, X_{T_f}) = S(0)} × \\frac{1}{\\left( \\frac{d S(T_f, X_{T_f})}{dX_{T_f}}\\right)_{S(T_f, X_{T_f}) = S(0)}}\n",
    "$$\n",
    "\n",
    "Where :    \n",
    "* $X_t$ is the Hull-White one factor state variable.\n",
    "* $B(t, T, X_t)$ is the Hull-White one factor zero-coupon log-normal price.\n",
    "* $S(0)$ is the forward swap rate.\n",
    "\n",
    "We use the following approximation : $ B(T_f, T, X_{T_f})_{S(T_f, X_{T_f}) = S(0)} ≈ \\frac{B(0, T)}{B(0, T_f)} $, for $T \\in ]T_0, T_1]$.\n",
    "\n",
    "Thus, the slope becomes :    \n",
    "\n",
    "$$\n",
    "a = \\frac{B(0, T_p) × (γ - \\beta(T_f, T_p))}{B(0, T_N)×β(T_f, T_N)+LVL(0, T_0, T_1)×S(0, T_0, T_1)×γ}\n",
    "$$\n",
    "\n",
    "Where :\n",
    "\n",
    "$$\n",
    "γ = \\frac{∑_{T^p_i \\in FixedLegPayDates} DCF_i × B(0, T^p_{i})×β(T_f, T^p_{i})}{LVL(0, T_0, T_1)}\n",
    "$$\n",
    "\n",
    "### Calculating the Intercept b\n",
    "\n",
    "On the other hand, for $T_f = 0$ :    \n",
    "\n",
    "$$\n",
    "b = \\frac{B(0, T_p)}{LVL(0,T_0, T_1)} - a × S(0, T_0, T_1)\n",
    "$$\n",
    "\n",
    "We first implement a zero-coupon curve class to define discounting curves :"
   ]
  },
  {
   "cell_type": "code",
   "execution_count": 1,
   "metadata": {
    "id": "XAC5O7b7MZeT"
   },
   "outputs": [],
   "source": [
    "import numpy as np\n",
    "from scipy.interpolate import interp1d\n",
    "\n",
    "class zc_curve :\n",
    "    \"\"\"\n",
    "    Zero-Coupon Rates Curve class.\n",
    "    \"\"\"\n",
    "    def __init__(self, maturities, zc_rates):\n",
    "        \"\"\"\n",
    "        Init method : Takes the IR market tenors and the bootstrapped ZC rates.\n",
    "        \"\"\"\n",
    "        self.maturities = maturities\n",
    "        self.zc_rates = zc_rates\n",
    "        # Cubic Interpolation & Extrapolation\n",
    "        self.zc_rates_interp = interp1d(maturities, zc_rates, kind='cubic', fill_value=\"extrapolate\")\n",
    "\n",
    "    def df(self, T):\n",
    "        \"\"\"\n",
    "        Zero-Coupon Discount Factors.\n",
    "        \"\"\"\n",
    "        return np.exp(-self.zc_rates_interp(T)*T)"
   ]
  },
  {
   "cell_type": "markdown",
   "metadata": {},
   "source": [
    "Then, we implement the TSR model as described above :"
   ]
  },
  {
   "cell_type": "code",
   "execution_count": 2,
   "metadata": {
    "id": "dV8tka8fQ9Do"
   },
   "outputs": [],
   "source": [
    "class tsr_model :\n",
    "    \"\"\"\n",
    "    TSR model : The Linear Mean-Reversion method class.\n",
    "    \"\"\"\n",
    "    def __init__(self, df, mean_reversion=0.02) :\n",
    "        \"\"\"\n",
    "        Init method : df is the discount factor function and mean_reversion is the HW-1F mean-reversion (defaulted to 2%).\n",
    "        \"\"\"\n",
    "        self.df = df\n",
    "        self.mean_reversion = mean_reversion\n",
    "\n",
    "    def beta(self, t, T) :\n",
    "        \"\"\"\n",
    "        HW-1F Beta function.\n",
    "        \"\"\"\n",
    "        return (1 - np.exp(-self.mean_reversion * (T - t))) / self.mean_reversion\n",
    "\n",
    "    def tsr_coeffs(self, expiry, tenor, pay_date) :\n",
    "        \"\"\"\n",
    "        TSR coefficients formulas.\n",
    "        \"\"\"\n",
    "        \n",
    "        # Special Case : If the expiry is reached\n",
    "        if expiry == 0:\n",
    "            print(\"The input expiry is 0 : The TSR model is not applied.\")\n",
    "            return None\n",
    "        \n",
    "        # Dates\n",
    "        start_time = expiry + 2./365.\n",
    "        # Fixed leg payment dates : Annually\n",
    "        pay_times = np.arange(start_time + 1, expiry + tenor + 1)\n",
    "        year_fractions = np.ones(len(pay_times))\n",
    "\n",
    "        # Intermidiate Variables\n",
    "        df_start_time = self.df(start_time)\n",
    "        df_pay_times = self.df(pay_times)\n",
    "        level = np.sum(df_pay_times * year_fractions)\n",
    "        swap_fwd = (df_start_time - df_pay_times[-1]) / level\n",
    "        gamma = np.sum(df_pay_times * year_fractions * self.beta(expiry, pay_times)) / level\n",
    "\n",
    "        # Results\n",
    "        num = self.df(pay_date) * (gamma - self.beta(expiry, pay_date))\n",
    "        den = df_pay_times[-1] * self.beta(expiry, pay_times[-1]) + level * swap_fwd * gamma\n",
    "        a = num / den\n",
    "        b = self.df(pay_date) / level - a * swap_fwd\n",
    "\n",
    "        return {\"a\" : a, \"b\" : b}"
   ]
  },
  {
   "cell_type": "markdown",
   "metadata": {
    "id": "wbGacWQiNI4u"
   },
   "source": [
    "## The Replication Method\n",
    "\n",
    "To determine the present value (PV) of a CMS-linked product, we use the following formula derived earlier :\n",
    "\n",
    "\\begin{equation}\n",
    "\\begin{split}\n",
    "PV & = LVL(0,T_0, T_1) \\times E^{Q^{LVL}} \\left( \\frac{f\\left(S(T_f, T_0, T_1)\\right) \\times B(T_f, T_p) }{LVL(T_f,T_0, T_1)} \\right) \\\\\n",
    "& ≈ LVL(0,T_0, T_1) \\times E^{Q^{LVL}} \\left[ f(S(T_f, T_0, T_1)) × g(S(T_f, T_0, T_1) \\right] \\\\\n",
    "& = LVL(0,T_0, T_1) \\times E^{Q^{LVL}} \\left[ h(S(T_f, T_0, T_1))  \\right] \\\\\n",
    "\\end{split}\n",
    "\\end{equation}\n",
    "\n",
    "Where : $h(s) = f(s) \\times g(s)$\n",
    "\n",
    "To evaluate the expected value, we use the Carr-Madan replication approach :\n",
    "\n",
    "$$\n",
    "h(S(T_f)) = h(K^*) + h'(K^*) × \\left(S(T_f) - K^*\\right) + ∫_{-∞}^{K^*}h''(k) \\times (k-S(T_f))^+dk + ∫_{K^*}^{+∞}h''(k) \\times (S(T_f) - k)^+dk\n",
    "$$\n",
    "\n",
    "Where : $K^*$ is generally chosen as the forward swap rate $S(0, T_0, T_1)$.\n",
    "\n",
    "### CMS Forward Price\n",
    "\n",
    "For CMS forwards, the payoff function is : $h(s) = s × (as + b) = as^2 + bs$.\n",
    "\n",
    "So :\n",
    "* $h'(s) = 2as + b$\n",
    "* $h''(s) = 2a$\n",
    "\n",
    "Thus, the value of a CMS forward is:\n",
    "\n",
    "\\begin{equation}\n",
    "\\begin{split}\n",
    "CMS_0(T_f, T_0, T_1, T_p) & = \\frac{PV}{B(0, T_p)}\\\\\n",
    "&= \\frac{LVL(0, T_0, T_1)}{B(0, T_p)} \\left( \\left(aS(0, T_0, T_1)^2+bS(0, T_0, T_1)\\right) + ∫_{-∞}^{S(0, T_0, T_1)}2a \\times Put_{Swaption}^{OTM}(T_f, k)dk \\\\+ ∫_{S(0, T_0, T_1)}^{+∞}2a \\times Call_{Swaption}^{OTM}(T_f, k)dk \\right) \\\\\n",
    "\\end{split}\n",
    "\\end{equation}\n",
    "\n",
    "It is priced by a replication of out-of-the-money (OTM) swaptions and is higher than the forward swap rate $S(t, T_0, T_1)$, making it subject to a positive convexity adjustment.\n",
    "\n",
    "### CMS Option Price\n",
    "\n",
    "For a CMS caplet with strike $K$, the payoff function is : $h(s) = (s-K)^+ × (as + b)$.\n",
    "\n",
    "So :\n",
    "* $h'(s) = (2as + b - aK) × 1_{s > K}$\n",
    "* $h''(s) = 2a × 1_{s > K}$\n",
    "\n",
    "Because of the non-smoothness at the strike, the replication formula is adjusted as following :\n",
    "\n",
    "$$\n",
    "PV = LVL(0,T_0, T_1) \\times \\left( \\left(aS(0, T_0, T_1)+b\\right) \\times (S(0, T_0, T_1) - K)^+ + \\left(aK+b\\right) × \\\\   \\left( 1_{K<S(0, T_0, T_1)} \\times Put_{Swaption}(T_f, K) + 1_{K \\ge S(0, T_0, T_1)} \\times Call_{Swaption}(T_f, K) \\right) + \\\\ \n",
    "∫_{min(K, S(0, T_0, T_1))}^{S(0, T_0, T_1)}2a \\times Put_{Swaption}^{OTM}(T_f, k)dk + \\\\\n",
    "∫_{max(K, S(0, T_0, T_1))}^{+∞}2a \\times Call_{Swaption}^{OTM}(T_f, k)dk \\right)\n",
    "$$\n",
    "\n",
    "CMS floorlets can then be implied using the Call / Put parity... Similar to the CMS forward, the valuation relies on a replication by OTM swaptions.\n",
    "\n",
    "We start by implementing the swaption instrument class :"
   ]
  },
  {
   "cell_type": "code",
   "execution_count": 3,
   "metadata": {
    "id": "Unxyl3mPGN_U"
   },
   "outputs": [],
   "source": [
    "import numpy as np\n",
    "from scipy.stats import norm\n",
    "import math\n",
    "\n",
    "class swaption :\n",
    "    \"\"\"\n",
    "    Vanilla instrument \"Swaption\" class.\n",
    "    \"\"\"\n",
    "    def __init__(self, payer_receiver, expiry, tenor, strike, notional = 1.):\n",
    "        \"\"\"\n",
    "        Init method.\n",
    "        \"\"\"\n",
    "        self.payer_receiver = payer_receiver\n",
    "        self.expiry = expiry\n",
    "        self.strike = strike\n",
    "        self.notional = notional\n",
    "        self.start_time = expiry + 2./365.\n",
    "        # Fixed leg payment dates : Annually\n",
    "        self.pay_times = np.arange(self.start_time + 1, expiry + tenor + 1)\n",
    "        self.year_fractions = np.ones(len(self.pay_times))\n",
    "\n",
    "    def set_market_data(self, df, normal_vol):\n",
    "        \"\"\"\n",
    "        Stores the DFs values to save computation time.\n",
    "        \"\"\"\n",
    "        self.df_exp_time = df(self.expiry)\n",
    "        self.df_start_time = df(self.start_time)\n",
    "        self.df_pay_times = df(self.pay_times)\n",
    "        self.normal_vol = normal_vol\n",
    "\n",
    "    def level(self) :\n",
    "      \"\"\"\n",
    "      The level function : Sum of DCF(T(i)) * B(0, T(i)) where T(i) are the fixed leg pay dates.\n",
    "      \"\"\"\n",
    "      return np.sum(self.df_pay_times * self.year_fractions)\n",
    "\n",
    "    def forward(self):\n",
    "        \"\"\"\n",
    "        The forward level of the swap rate.\n",
    "        \"\"\"\n",
    "        return (self.df_start_time - self.df_pay_times[-1]) / self.level()\n",
    "\n",
    "    def pv_underlying(self):\n",
    "        \"\"\"\n",
    "        PV of the underlying swap.\n",
    "        \"\"\"\n",
    "        phi = 1. if (self.payer_receiver.upper()=='PAYER') else -1.\n",
    "        return phi * self.notional * self.level() * (self.forward() - self.strike)\n",
    "\n",
    "    def market_price(self):\n",
    "        \"\"\"\n",
    "        Swaption price under the Normal model.\n",
    "        \"\"\"\n",
    "        phi = 1 if (self.payer_receiver.upper()=='PAYER') else -1\n",
    "        lvl = self.level()\n",
    "        fwd = self.forward()\n",
    "        if (self.expiry==0 or self.normal_vol==0) : return max(phi * (fwd - self.strike), 0)\n",
    "        sqrt_V2T = self.normal_vol * math.sqrt(self.expiry)\n",
    "        d = (fwd - self.strike) / sqrt_V2T\n",
    "        return self.notional * lvl * sqrt_V2T * (phi * d * norm.cdf(phi * d) + norm.pdf(d))\n",
    "\n",
    "    def market_fwd_price(self):\n",
    "        \"\"\"\n",
    "        Swaption forward price under the Normal model.\n",
    "        \"\"\"\n",
    "        phi = 1 if (self.payer_receiver.upper()=='PAYER') else -1\n",
    "        lvl = self.level()\n",
    "        fwd = self.forward()\n",
    "        if (self.expiry==0 or self.normal_vol==0) : return max(phi * (fwd - self.strike), 0)\n",
    "        sqrt_V2T = self.normal_vol * math.sqrt(self.expiry)\n",
    "        d = (fwd - self.strike) / sqrt_V2T\n",
    "        return self.notional * sqrt_V2T * (phi * d * norm.cdf(phi * d) + norm.pdf(d))"
   ]
  },
  {
   "cell_type": "markdown",
   "metadata": {
    "id": "r982riIrN6--"
   },
   "source": [
    "Next, we define a volatility skew class to construct normal vol skews through interpolation and extrapolation methods :"
   ]
  },
  {
   "cell_type": "code",
   "execution_count": 4,
   "metadata": {
    "id": "AM2t_NuXN7MU"
   },
   "outputs": [],
   "source": [
    "class vol_skew :\n",
    "    \"\"\"\n",
    "    Normal Vol Skew\n",
    "    \"\"\"\n",
    "    def __init__(self, strikes, vol_data) :\n",
    "        \"\"\"\n",
    "        Init method : Takes the market market strikes and their implied normal volatilities.\n",
    "        \"\"\"\n",
    "        self.strikes = strikes\n",
    "        self.vol_data = vol_data\n",
    "\n",
    "    def normal_vols_skew(self, strike) :\n",
    "        \"\"\"\n",
    "        A function that takes the strike as input, and output the equivalent normal_vol(expiry, strike).\n",
    "        Cubic interpolation & Linear extrapolation.\n",
    "        \"\"\"\n",
    "        if strike < self.strikes[0] or strike > self.strikes[-1] :\n",
    "            return interp1d(self.strikes, self.vol_data, kind='linear', fill_value=\"extrapolate\")(strike)\n",
    "        return interp1d(self.strikes, self.vol_data, kind='cubic')(strike)\n",
    "    "
   ]
  },
  {
   "cell_type": "markdown",
   "metadata": {
    "id": "aVCOdtQxdt9s"
   },
   "source": [
    "Finally, we implement the Carr-Madan replication approach to price CMS forwards and options :"
   ]
  },
  {
   "cell_type": "code",
   "execution_count": 5,
   "metadata": {
    "id": "q9p9YWyENIJm"
   },
   "outputs": [],
   "source": [
    "from scipy.integrate import quad\n",
    "\n",
    "class replication_method :\n",
    "    \"\"\"\n",
    "    CMS forwards and CMS Caplets / Floorlets prices using the Carr-Madan replication by OTM Swaptions.\n",
    "    \"\"\"\n",
    "    def __init__(self, tsr_model) :\n",
    "        \"\"\"\n",
    "        Init method : Takes the TSR model as input.\n",
    "        \"\"\"\n",
    "        self.tsr_model = tsr_model\n",
    "\n",
    "    def replication_price(self, payoff_type, expiry, tenor, pay_date, vol_skew, strike = 0., n_stdev = 5.):\n",
    "        \"\"\"\n",
    "        payoff_type : Forward, Caplet, or Floorlet.\n",
    "        vol_skew : A function that takes the strike as input, and output the equivalent normal_vol(expiry, strike).\n",
    "        \"\"\"\n",
    "        # df\n",
    "        df = self.tsr_model.df\n",
    "\n",
    "        # Dates\n",
    "        start_time = expiry + 2./365.\n",
    "        pay_times = np.arange(start_time + 1, expiry + tenor + 1)\n",
    "        year_fractions = np.ones(len(pay_times))\n",
    "\n",
    "        # Intermidiate Variables\n",
    "        df_start_time = df(start_time)\n",
    "        df_pay_times = df(pay_times)\n",
    "        df_pay_date = df(pay_date)\n",
    "        level = np.sum(df_pay_times * year_fractions)\n",
    "        swap_fwd = (df_start_time - df_pay_times[-1]) / level\n",
    "        \n",
    "        # If the expiry is reached\n",
    "        if expiry == 0:\n",
    "            if payoff_type.upper()==\"FORWARD\" :\n",
    "                return df_pay_date * swap_fwd\n",
    "            elif payoff_type.upper()==\"CAPLET\" :\n",
    "                return df_pay_date * max(swap_fwd - strike, 0)\n",
    "            elif payoff_type.upper()==\"FLOORLET\" :\n",
    "                return df_pay_date * max(strike - swap_fwd, 0)\n",
    "            else :\n",
    "                print(\"Undefined PayOff type. Possible values : Forward, Caplet, or Floorlet.\")\n",
    "                return None\n",
    "                \n",
    "        # TSR coefficients\n",
    "        tsr_coeffs = self.tsr_model.tsr_coeffs(expiry, tenor, pay_date)\n",
    "        a = tsr_coeffs[\"a\"]\n",
    "        b = tsr_coeffs[\"b\"]\n",
    "\n",
    "        # Swaption Prices\n",
    "        swopt_pay = swaption(\"Payer\", expiry, tenor, swap_fwd)\n",
    "        swopt_pay.set_market_data(df, vol_skew(swap_fwd))\n",
    "        swopt_rec = swaption(\"Receiver\", expiry, tenor, swap_fwd)\n",
    "        swopt_rec.set_market_data(df, vol_skew(swap_fwd))\n",
    "        def swopt_fwd_price(payer_receiver, k) :\n",
    "            if payer_receiver.upper() == \"PAYER\" :\n",
    "                swopt_pay.strike = k\n",
    "                swopt_pay.normal_vol = vol_skew(k)\n",
    "                return swopt_pay.market_fwd_price()\n",
    "            else :\n",
    "                swopt_rec.strike = k\n",
    "                swopt_rec.normal_vol = vol_skew(k)\n",
    "                return swopt_rec.market_fwd_price()\n",
    "\n",
    "        # PayOff CMS Fwd functions\n",
    "        payoff = lambda s : a * s**2 + b * s\n",
    "        payoff_d = lambda s : 2 * a * s + b\n",
    "        payoff_sd = lambda s : 2 * a\n",
    "\n",
    "        # Intermidiate Functions : OTM Swaptions called in the integration\n",
    "        otm_put_part = lambda k : payoff_sd(k) * swopt_fwd_price(\"Receiver\", k)\n",
    "        otm_call_part = lambda k : payoff_sd(k) * swopt_fwd_price(\"Payer\", k)\n",
    "\n",
    "        # CMS Fwd price by Replication :\n",
    "        upper_bound = swap_fwd + n_stdev * vol_skew(swap_fwd) * math.sqrt(expiry)\n",
    "        lower_bound = swap_fwd - n_stdev * vol_skew(swap_fwd) * math.sqrt(expiry)\n",
    "        rep_price = payoff(swap_fwd) + quad(otm_put_part, lower_bound, swap_fwd)[0] + \\\n",
    "                    quad(otm_call_part, swap_fwd, upper_bound)[0]\n",
    "        cms_fwd = level * rep_price / df_pay_date\n",
    "\n",
    "        if payoff_type.upper()==\"FORWARD\" :\n",
    "            print({\"Swap Fwd\" : round(100 * swap_fwd, 4), \"CMS Fwd\" : round(100 * cms_fwd, 4), \n",
    "                   \"Conv. Adj.\" : round(100 * (cms_fwd - swap_fwd), 4)})\n",
    "            return cms_fwd\n",
    "        \n",
    "        elif payoff_type.upper()==\"CAPLET\" or payoff_type.upper()==\"FLOORLET\" :\n",
    "            # PayOff CMS Caplet functions\n",
    "            g = lambda s : a * s + b\n",
    "            payoff = lambda s : (a * s + b) * (s - strike)\n",
    "            payoff_d = lambda s : 2 * a * s + b - a * strike\n",
    "            payoff_sd = lambda s : 2 * a\n",
    "\n",
    "            # CMS Caplet price by Replication\n",
    "            rep_price = g(swap_fwd) * max(swap_fwd - strike, 0) + g(strike) * \\\n",
    "                        swopt_fwd_price(\"Receiver\" if strike < swap_fwd else \"Payer\", strike) + \\\n",
    "                        quad(otm_put_part, min(strike, swap_fwd), swap_fwd)[0] + \\\n",
    "                        quad(otm_call_part, max(strike, swap_fwd), upper_bound)[0]\n",
    "\n",
    "            if payoff_type.upper()==\"CAPLET\" :\n",
    "                return level * rep_price\n",
    "            else :\n",
    "                # Call/Put Parity : CMS Floorlet price by Replication\n",
    "                return level * rep_price - df_pay_date * (cms_fwd - strike)\n",
    "        \n",
    "        else :\n",
    "            print(\"Undefined PayOff type. Possible values : Forward, Caplet, or Floorlet.\")\n",
    "            return None"
   ]
  },
  {
   "cell_type": "markdown",
   "metadata": {
    "id": "GIEk2qKlj-7J"
   },
   "source": [
    "## Numerical Application\n",
    "\n",
    "Let us compute 10Y EUR CMS forwards and options fixed in 5Y and paid in 6Y, as of 1st Febrary 2024 :"
   ]
  },
  {
   "cell_type": "code",
   "execution_count": 6,
   "metadata": {
    "colab": {
     "base_uri": "https://localhost:8080/"
    },
    "id": "PXuohVxvqFZY",
    "outputId": "5a372796-487b-4a50-88a0-7d75f278fbac"
   },
   "outputs": [
    {
     "name": "stdout",
     "output_type": "stream",
     "text": [
      "5Yx10Y CMS Forward paid in 6Y (%) :\n",
      "-----------------------------------\n",
      "{'Swap Fwd': 2.6873, 'CMS Fwd': 2.8708, 'Conv. Adj.': 0.1835}\n"
     ]
    }
   ],
   "source": [
    "# IR yield curve asof 1st Febrary 2024 (EURIBOR 6M)\n",
    "maturities = np.array([0.5, 1, 2, 5, 6, 8, 10, 15, 20, 30])\n",
    "zc_rates = np.array([3.84, 3.41, 2.84, 2.48, 2.47, 2.49, 2.52, 2.6, 2.53, 2.28]) / 100\n",
    "yc = zc_curve(maturities, zc_rates)\n",
    "\n",
    "# Normal Market Volatilities asof 1st Febrary 2024 (EURIBOR 6M) : Expiry 5Y x Tenor 10Y\n",
    "expiry = 5.\n",
    "tenor = 10.\n",
    "pay_date = 6.\n",
    "strikes_5y10y = np.array([1.18, 1.68, 2.18, 2.68, 3.68, 4.68, 5.18]) / 100.\n",
    "normal_vols_5y10y = np.array([84.70, 83.81, 83.76, 84.74, 89.82, 98.07, 102.91]) / 10000.\n",
    "vol_skew_5y10y = lambda k : vol_skew(strikes_5y10y, normal_vols_5y10y).normal_vols_skew(k)\n",
    "\n",
    "# TSR Model : Swap 5Yx10Y to be paid in 6Y. We assume a Mean-Reversion of 1.50%.\n",
    "mean_reversion = 0.015\n",
    "tsr = tsr_model(yc.df, mean_reversion)\n",
    "\n",
    "# CMS Convexity Adjustment : Swap 5Yx10Y to be paid in 6Y\n",
    "print(\"5Yx10Y CMS Forward paid in 6Y (%) :\")\n",
    "print(\"-----------------------------------\")\n",
    "rep_method = replication_method(tsr)\n",
    "cms_fwd = rep_method.replication_price(\"Forward\", expiry, tenor, pay_date, vol_skew_5y10y)"
   ]
  },
  {
   "cell_type": "code",
   "execution_count": 7,
   "metadata": {
    "colab": {
     "base_uri": "https://localhost:8080/"
    },
    "id": "s1hRWzzHWXMm",
    "outputId": "bda10c0a-09ae-42cf-9d46-144c4993173d"
   },
   "outputs": [
    {
     "name": "stdout",
     "output_type": "stream",
     "text": [
      "The ATM 5Yx10Y CMS Caplet & Floorlet paid in 6Y :\n",
      "-------------------------------------------------\n",
      "Caplet price (Bps) :  66.7931\n",
      "Floorlet price (Bps) :  66.7931\n"
     ]
    }
   ],
   "source": [
    "# ATM 5Yx10Y CMS Caplet & Floorlet with a payment date of 6Y\n",
    "print(\"The ATM 5Yx10Y CMS Caplet & Floorlet paid in 6Y :\")\n",
    "print(\"-------------------------------------------------\")\n",
    "print(\"Caplet price (Bps) : \", round(10000. * \n",
    "                            rep_method.replication_price(\"Caplet\", expiry, tenor, pay_date, vol_skew_5y10y, cms_fwd), 4))\n",
    "print(\"Floorlet price (Bps) : \", round(10000. * \n",
    "                            rep_method.replication_price(\"Floorlet\", expiry, tenor, pay_date, vol_skew_5y10y, cms_fwd), 4))"
   ]
  },
  {
   "cell_type": "code",
   "execution_count": 8,
   "metadata": {
    "colab": {
     "base_uri": "https://localhost:8080/"
    },
    "id": "M8wJng1hXM8I",
    "outputId": "b74ab6b5-38b4-4ed5-b44a-189b5f054cd3"
   },
   "outputs": [
    {
     "name": "stdout",
     "output_type": "stream",
     "text": [
      "The 5Yx10Y CMS Caplet & Floorlet paid in 6Y with a strike of 0.025 :\n",
      "-------------------------------------------------------------------\n",
      "Caplet price (Bps) :  82.9371\n",
      "Floorlet price (Bps) :  50.9655\n"
     ]
    }
   ],
   "source": [
    "# 5Yx10Y CMS Caplet & Floorlet with a payment date of 6Y and a strike != ATM\n",
    "strike = 0.025\n",
    "print(\"The 5Yx10Y CMS Caplet & Floorlet paid in 6Y with a strike of {} :\".format(strike))\n",
    "print(\"-------------------------------------------------------------------\")\n",
    "print(\"Caplet price (Bps) : \", round(10000. * \n",
    "                            rep_method.replication_price(\"Caplet\", expiry, tenor, pay_date, vol_skew_5y10y, strike), 4))\n",
    "print(\"Floorlet price (Bps) : \", round(10000. * \n",
    "                            rep_method.replication_price(\"Floorlet\", expiry, tenor, pay_date, vol_skew_5y10y, strike), 4))"
   ]
  }
 ],
 "metadata": {
  "colab": {
   "provenance": []
  },
  "kernelspec": {
   "display_name": "Python 3 (ipykernel)",
   "language": "python",
   "name": "python3"
  },
  "language_info": {
   "codemirror_mode": {
    "name": "ipython",
    "version": 3
   },
   "file_extension": ".py",
   "mimetype": "text/x-python",
   "name": "python",
   "nbconvert_exporter": "python",
   "pygments_lexer": "ipython3",
   "version": "3.9.12"
  }
 },
 "nbformat": 4,
 "nbformat_minor": 1
}
