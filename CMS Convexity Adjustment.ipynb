{
 "cells": [
  {
   "cell_type": "markdown",
   "metadata": {
    "id": "oWvmyhUEVskc"
   },
   "source": [
    "# CMS Convexity Adjustment\n",
    "------------------\n",
    "> **Idriss Afra**\n",
    "\n",
    "This project aims to compute the CMS Convexity Adjustment and price CMS Caplets / Floorlets."
   ]
  },
  {
   "cell_type": "markdown",
   "metadata": {
    "id": "JQajMiTDbHcL"
   },
   "source": [
    "## Model Description\n",
    "\n",
    "CMS derivatives are very popular products nowadays because they provide a market efficient access to long dated interest rates. In fact, their payoffs depend on a swap rate of a constant (fixed) maturity $f\\left(S(T_f, T_0, T_1)\\right)$ where :    \n",
    "* $f$ is the payoff function. Example : $f(s)=s$ for CMS forwards\n",
    "* $S$ is the swap rate\n",
    "* $T_f$ is the fixing date\n",
    "* $T_0$ is the start date $\\left(T_0 = T_f + 2BD\\right)$\n",
    "* $T_1$ is the end date such as $T_1 - T_0$ is the swap's tenor\n",
    "\n",
    "Let us assume a cash-flow of $f\\left(S(T_f, T_0, T_1)\\right)$ paid at $T_p$, its $PV$ under the $T_p$-forward measure $Q^{T_p}$ is :\n",
    "\n",
    "$$\n",
    "PV = B(0, Tp) \\times E^{Q^{T_p}} \\left(f\\left(S(T_f, T_0, T_1)\\right)\\right)\n",
    "$$\n",
    "\n",
    "Where : $B(0, Tp)$ is the zero-coupon price up to $T_p \\in [T_0, T_1]$\n",
    "\n",
    "We use the Radon-Nikodym method to switch to the level measure $Q^{LVL}$ under which the $S(t, T_0, T_1)$ is martingale :    \n",
    "\n",
    "\\begin{equation}\n",
    "\\begin{split}\n",
    "PV & = B(0, Tp) \\times E^{Q^{T_p}} \\left( \\frac{f\\left(S(T_f, T_0, T_1)\\right) \\times B(T_f, T_p) }{B(T_f, T_p)} \\right) \\\\\n",
    "& = LVL(0,T_0, T_1) \\times E^{Q^{LVL}} \\left( \\frac{f\\left(S(T_f, T_0, T_1)\\right) \\times B(T_f, T_p) }{LVL(T_f,T_0, T_1)} \\right) \\\\\n",
    "\\end{split}\n",
    "\\end{equation}\n",
    "\n",
    "\n"
   ]
  },
  {
   "cell_type": "markdown",
   "metadata": {
    "id": "bepEFoVMQ2eA"
   },
   "source": [
    "## TSR Model : Mean Reversion Linear\n",
    "\n",
    "The terminal swap rate (TSR) approach assumes that the zero-coupon prices $\\left(B(T_f, T^p_i)\\right)_{T^p_i \\in SwapPayDates}$ are linked functionally to the driving swap rate $S(T_f, T_0, T_1)$. Therefore, it exists a function $g$ under this assumption such as :    \n",
    "\n",
    "$$\n",
    "\\frac{B(T_f, T_p)}{LVL(T_f,T_0, T_1)} ≈ g\\left(S(T_f, T_0, T_1)\\right)\n",
    "$$\n",
    "\n",
    "We use the Mean Reversion Linear TSR model in this project : $g(s) = a\\left(T_p\\right) \\times s + b\\left(T_p\\right)$\n",
    "\n",
    "In this case :\n",
    "\\begin{equation}\n",
    "\\begin{split}\n",
    "a\\left(T_p\\right) & = \\frac{d}{dS(T_f, T_0, T_1)} \\left( \\frac{B(T_f, T_p)}{LVL(T_f,T_0, T_1)}  \\right) \\\\\n",
    "& = \\frac{d}{dS(T_f)} \\left( \\frac{B(T_f, T_p)}{∑_{T^p_i \\in SwapPayDates} DCF_i × B(T_f, T^p_{i}) } \\right) \\\\\n",
    "\\end{split}\n",
    "\\end{equation}\n",
    "\n",
    "We can rewrite this derivative in the context of the HW-1F model as :    \n",
    "\n",
    "$$\n",
    "a\\left(T_p\\right) = \\frac{d}{dX_{T_f}} \\left( \\frac{B(T_f, T_p, X_{T_f})}{∑_{T^p_i \\in SwapPayDates} DCF_i × B(T_f, T^p_{i}, X_{T_f})}  \\right)_{S(T_f, X_{T_f}) = S(0)} × \\frac{1}{\\left( \\frac{d S(T_f, X_{T_f})}{dX_{T_f}}\\right)_{S(T_f, X_{T_f}) = S(0)}}\n",
    "$$\n",
    "\n",
    "Where :    \n",
    "* $X_t = r(t) - f(0, t) \\text{}$ : $r_t$ is the short rate and $f(0, t) = -\\frac{dLOG\\left(B(0, t)\\right)}{dt} $ is the instantaneous forward rate $\\left(X_0 = 0\\right)$\n",
    "* $B(t, T, X_t) = \\frac{B(0, T)}{B(0, t)} × EXP\\left( -\\frac{1}{2} × β(t, T)^{2} × Φ(t) - β(t, T) × X_t \\right)$ : The HW-1F zero-coupon price\n",
    "* $β(t, T) = \\frac{1 - e^{-λ (T-t)}}{λ}$ : $λ$ is the HW-1F mean reversion\n",
    "* $Φ(t) = ∫^{t}_{0} σ(s)^{2} e^{-2λ(t-s)} ds$ : $σ(t)$ is the short rate volatility\n",
    "\n",
    "By using for all $T_0 < T ≤ T_1$ the following approximation :\n",
    "\n",
    "$$\n",
    "B(T_f, T, X_{T_f})_{S(T_f, X_{T_f}) = S(0)} ≈ \\frac{B(0, T)}{B(0, T_f)}\n",
    "$$\n",
    "\n",
    "We get the following derivation result :    \n",
    "\n",
    "$$\n",
    "a\\left(T_p\\right) = \\frac{B(0, T_p) × (γ - \\beta(T_f, T_p))}{B(0, T_N)×β(T_f, T_N)+LVL(0, T_0, T_1)×S(0, T_0, T_1)×γ}\n",
    "$$\n",
    "\n",
    "Where :\n",
    "\n",
    "$$\n",
    "γ = \\frac{∑_{T^p_i \\in SwapPayDates} DCF_i × B(0, T^p_{i})×β(T_f, T^p_{i})}{LVL(0, T_0, T_1)}\n",
    "$$\n",
    "\n",
    "On the other hand, for $T_f=0$ :    \n",
    "\n",
    "$$\n",
    "b\\left(T_p\\right) = \\frac{B(0, T_p)}{LVL(0,T_0, T_1)} - a × S(0, T_0, T_1)\n",
    "$$"
   ]
  },
  {
   "cell_type": "code",
   "execution_count": 1,
   "metadata": {
    "id": "dV8tka8fQ9Do"
   },
   "outputs": [],
   "source": [
    "class tsr_model :\n",
    "    \"\"\"\n",
    "    TSR model : Mean Reversion Linear flavor\n",
    "    \"\"\"\n",
    "    def __init__(self, df, mean_reversion=0.015) :\n",
    "        \"\"\"\n",
    "        Init method : df is the discount curve function and the HW-1F mean reversion is defaulted to 1.50%\n",
    "        \"\"\"\n",
    "        self.df = df\n",
    "        self.mean_reversion = mean_reversion\n",
    "\n",
    "    def beta(self, t, T) :\n",
    "        \"\"\"\n",
    "        HW-1F Beta function\n",
    "        \"\"\"\n",
    "        return (1 - np.exp(-self.mean_reversion * (T - t))) / self.mean_reversion\n",
    "\n",
    "    def tsr_coeffs(self, expiry, tenor, pay_date) :\n",
    "        \"\"\"\n",
    "        TSR coefficients formulas\n",
    "        \"\"\"\n",
    "        # Dates\n",
    "        start_time = expiry + 2./365.\n",
    "        # Fixed leg payment dates : Annually\n",
    "        pay_times = np.arange(start_time + 1, expiry + tenor + 1)\n",
    "        year_fractions = np.ones(len(pay_times))\n",
    "\n",
    "        # Intermidiate Variables\n",
    "        df_start_time = self.df(start_time)\n",
    "        df_pay_times = self.df(pay_times)\n",
    "        level = np.sum(df_pay_times * year_fractions)\n",
    "        swap_fwd = (df_start_time - df_pay_times[-1]) / level\n",
    "        gamma = np.sum(df_pay_times * year_fractions * self.beta(expiry, pay_times)) / level\n",
    "\n",
    "        # Results\n",
    "        num = self.df(pay_date) * (gamma - self.beta(expiry, pay_date))\n",
    "        den = df_pay_times[-1] * self.beta(expiry, pay_times[-1]) + level * swap_fwd * gamma\n",
    "        a = num / den\n",
    "        b = self.df(pay_date) / level - a * swap_fwd\n",
    "\n",
    "        return {\"a\" : a, \"b\" : b}"
   ]
  },
  {
   "cell_type": "markdown",
   "metadata": {
    "id": "wbGacWQiNI4u"
   },
   "source": [
    "## Replication Method : The Carr-Madan Formula\n",
    "\n",
    "From the previous parts, we have :  \n",
    "\n",
    "\\begin{equation}\n",
    "\\begin{split}\n",
    "PV & = LVL(0,T_0, T_1) \\times E^{Q^{LVL}} \\left( \\frac{f\\left(S(T_f, T_0, T_1)\\right) \\times B(T_f, T_p) }{LVL(T_f,T_0, T_1)} \\right) \\\\\n",
    "& = LVL(0,T_0, T_1) \\times E^{Q^{LVL}} \\left[ f(S(T_f, T_0, T_1)) × g(S(T_f, T_0, T_1) \\right] \\\\\n",
    "& = LVL(0,T_0, T_1) \\times E^{Q^{LVL}} \\left[ h(S(T_f, T_0, T_1))  \\right] \\\\\n",
    "\\end{split}\n",
    "\\end{equation}\n",
    "\n",
    "<br>Where : $g$ is the TSR mean reversion linear function and $h=f×g$\n",
    "\n",
    "We use the Carr-Madan formula to compute the expected value part as follows:\n",
    "\n",
    "$$\n",
    "h(S(T_f)) = h(K^*) + h'(K^*) × \\left(S(T_f) - K^*\\right) + ∫_{-∞}^{K^*}h''(k) \\times (k-S(T_f))^+dk + ∫_{K^*}^{+∞}h''(k) \\times (S(T_f) - k)^+dk \\\\\n",
    "$$\n",
    "\n",
    "<br>In particular, for CMS forwards :     \n",
    "* $h(s) = s × (as + b) = as^2 + bs$\n",
    "* $h'(s) = 2as + b$\n",
    "* $h''(s) = 2a$\n",
    "* $K^* = S(0, T_0, T_1)$\n",
    "\n",
    "Therefore :\n",
    "\\begin{equation}\n",
    "\\begin{split}\n",
    "CMS_0(T_f, T_0, T_1, T_p) & = \\frac{PV}{B(0, T_p)}\\\\\n",
    "&= \\frac{LVL(0, T_0, T_1)}{B(0, T_p)} \\left( \\left(aS(0, T_0, T_1)^2+bS(0, T_0, T_1)\\right) + ∫_{-∞}^{S(0, T_0, T_1)}2a \\times Put_{Swaption}^{OTM}(T_f, k)dk + ∫_{S(0, T_0, T_1)}^{+∞}2a \\times Call_{Swaption}^{OTM}(T_f, k)dk \\right) \\\\\n",
    "\\end{split}\n",
    "\\end{equation}\n",
    "\n",
    "$CMS_t(T_f, T_0, T_1, T_p)$ is always greater than $S(t, T_0, T_1)$, and hence, subject to a positive convexity adjustment\n",
    "\n",
    "<br>On the other hand, for CMS caplets with strike $K$ :\n",
    "* $h(s) = (s-K)^+ × (as + b)$\n",
    "* $h'(s) = (2as + b - aK) × 1_{s > K}$\n",
    "* $h''(s) = 2a × 1_{s > K}$\n",
    "* $K^* = K$\n",
    "\n",
    "Since $h$, and its derivatives, are not continuous and smooth in $K$, the proof shows that we can replace $h'(K^*) × \\left(S(T_f) - K^*\\right)$ in the Carr-Madan method by its right-sided derivative $h'_+(K^*) × \\left(S(T_f) - K^*\\right)^+$. This yields to :\n",
    "\n",
    "$$\n",
    "PV = LVL(0,T_0, T_1) \\times \\left( (aK+b) × Call_{Swaption}(T_f, K) + ∫_{K}^{+∞}2a \\times Call_{Swaption}^{OTM}(T_f, k)dk \\right)\n",
    "$$\n",
    "\n",
    "CMS floorlets can then be computed using the Call / Put parity...\n",
    "\n",
    "In this project, we will consider the normal (Bachelier) model as market model for swaptions :"
   ]
  },
  {
   "cell_type": "code",
   "execution_count": 2,
   "metadata": {
    "id": "Unxyl3mPGN_U"
   },
   "outputs": [],
   "source": [
    "import numpy as np\n",
    "from scipy.stats import norm\n",
    "import math\n",
    "\n",
    "class swaption :\n",
    "    \"\"\"\n",
    "    Vanilla instrument \"Swaption\"\n",
    "    \"\"\"\n",
    "    def __init__(self, payer_receiver, expiry, tenor, strike, notional = 1.):\n",
    "        \"\"\"\n",
    "        Init method\n",
    "        \"\"\"\n",
    "        self.payer_receiver = payer_receiver\n",
    "        self.expiry = expiry\n",
    "        self.strike = strike\n",
    "        self.notional = notional\n",
    "        self.start_time = expiry + 2./365.\n",
    "        # Fixed leg payment dates : Annually\n",
    "        self.pay_times = np.arange(self.start_time + 1, expiry + tenor + 1)\n",
    "        self.year_fractions = np.ones(len(self.pay_times))\n",
    "\n",
    "    def set_market_data(self, df, normal_vol):\n",
    "        \"\"\"\n",
    "        Store DFs values to save computation time\n",
    "        \"\"\"\n",
    "        self.df_exp_time = df(self.expiry)\n",
    "        self.df_start_time = df(self.start_time)\n",
    "        self.df_pay_times = df(self.pay_times)\n",
    "        self.normal_vol = normal_vol\n",
    "\n",
    "    def level(self) :\n",
    "      \"\"\"\n",
    "      The level function : Sum of DCF(T(i)) * B(0, T(i)) where T(i) are the fixed leg pay dates\n",
    "      \"\"\"\n",
    "      return np.sum(self.df_pay_times * self.year_fractions)\n",
    "\n",
    "    def forward(self):\n",
    "        \"\"\"\n",
    "        The forward level of the swap rate\n",
    "        \"\"\"\n",
    "        return (self.df_start_time - self.df_pay_times[-1]) / self.level()\n",
    "\n",
    "    def pv_underlying(self):\n",
    "        \"\"\"\n",
    "        PV of the underlying swap\n",
    "        \"\"\"\n",
    "        phi = 1. if (self.payer_receiver.upper()=='PAYER') else -1.\n",
    "        return phi * self.notional * self.level() * (self.forward() - self.strike)\n",
    "\n",
    "    def market_price(self):\n",
    "        \"\"\"\n",
    "        Swaption price under the Normal model\n",
    "        \"\"\"\n",
    "        phi = 1 if (self.payer_receiver.upper()=='PAYER') else -1\n",
    "        lvl = self.level()\n",
    "        fwd = self.forward()\n",
    "        if (self.expiry==0 or self.normal_vol==0) : return max(phi * (fwd - self.strike), 0)\n",
    "        sqrt_V2T = self.normal_vol * math.sqrt(self.expiry)\n",
    "        d = (fwd - self.strike) / sqrt_V2T\n",
    "        return self.notional * lvl * sqrt_V2T * (phi * d * norm.cdf(phi * d) + norm.pdf(d))\n",
    "\n",
    "    def market_fwd_price(self):\n",
    "        \"\"\"\n",
    "        Swaption forward price under the Normal model\n",
    "        \"\"\"\n",
    "        phi = 1 if (self.payer_receiver.upper()=='PAYER') else -1\n",
    "        lvl = self.level()\n",
    "        fwd = self.forward()\n",
    "        if (self.expiry==0 or self.normal_vol==0) : return max(phi * (fwd - self.strike), 0)\n",
    "        sqrt_V2T = self.normal_vol * math.sqrt(self.expiry)\n",
    "        d = (fwd - self.strike) / sqrt_V2T\n",
    "        return self.notional * sqrt_V2T * (phi * d * norm.cdf(phi * d) + norm.pdf(d))"
   ]
  },
  {
   "cell_type": "markdown",
   "metadata": {
    "id": "aVCOdtQxdt9s"
   },
   "source": [
    "Then, we implement the Carr-Madan replication method to price CMS forwards and Caplets / Floorlets :"
   ]
  },
  {
   "cell_type": "code",
   "execution_count": 3,
   "metadata": {
    "id": "q9p9YWyENIJm"
   },
   "outputs": [],
   "source": [
    "from scipy.integrate import quad\n",
    "\n",
    "class replication_method :\n",
    "    \"\"\"\n",
    "    CMS forwards and CMS Caplets / Floorlets prices using the Carr-Madan replication by OTM Swaptions\n",
    "    \"\"\"\n",
    "    def __init__(self, tsr_model) :\n",
    "        \"\"\"\n",
    "        Init method : Takes the TSR model as input\n",
    "        \"\"\"\n",
    "        self.tsr_model = tsr_model\n",
    "\n",
    "    def replication_price(self, payoff_type, expiry, tenor, pay_date, vol_skew, strike = 0):\n",
    "        \"\"\"\n",
    "        CMS forwards and CMS Caplets / Floorlets prices using the Carr-Madan replication by OTM Swaptions\n",
    "        payoff_type : Forward, Caplet, or Floorlet\n",
    "        vol_skew : A function that takes the strike as input, and output the equivalent normal_vol(expiry, strike)\n",
    "        \"\"\"\n",
    "        # df\n",
    "        df = self.tsr_model.df\n",
    "\n",
    "        # Dates\n",
    "        start_time = expiry + 2./365.\n",
    "        pay_times = np.arange(start_time + 1, expiry + tenor + 1)\n",
    "        year_fractions = np.ones(len(pay_times))\n",
    "\n",
    "        # Intermidiate Variables\n",
    "        df_start_time = df(start_time)\n",
    "        df_pay_times = df(pay_times)\n",
    "        df_pay_date = df(pay_date)\n",
    "        level = np.sum(df_pay_times * year_fractions)\n",
    "        swap_fwd = (df_start_time - df_pay_times[-1]) / level\n",
    "\n",
    "        # TSR coefficients\n",
    "        tsr_coeffs = self.tsr_model.tsr_coeffs(expiry, tenor, pay_date)\n",
    "        a = tsr_coeffs[\"a\"]\n",
    "        b = tsr_coeffs[\"b\"]\n",
    "\n",
    "        # Swaption Prices\n",
    "        swopt_pay = swaption(\"Payer\", expiry, tenor, swap_fwd)\n",
    "        swopt_pay.set_market_data(df, vol_skew(swap_fwd))\n",
    "        swopt_rec = swaption(\"Receiver\", expiry, tenor, swap_fwd)\n",
    "        swopt_rec.set_market_data(df, vol_skew(swap_fwd))\n",
    "        def swopt_fwd_price(payer_receiver, k) :\n",
    "            if payer_receiver.upper() == \"PAYER\" :\n",
    "                swopt_pay.strike = k\n",
    "                swopt_pay.normal_vol = vol_skew(k)\n",
    "                return swopt_pay.market_fwd_price()\n",
    "            else :\n",
    "                swopt_rec.strike = k\n",
    "                swopt_rec.normal_vol = vol_skew(k)\n",
    "                return swopt_rec.market_fwd_price()\n",
    "\n",
    "        # PayOff CMS Fwd functions\n",
    "        payoff = lambda s : a * s**2 + b * s\n",
    "        payoff_d = lambda s : 2 * a * s + b\n",
    "        payoff_sd = lambda s : 2 * a\n",
    "\n",
    "        # Intermidiate Functions : OTM Swaptions called in the integration\n",
    "        otm_put_part = lambda k : payoff_sd(k) * swopt_fwd_price(\"Receiver\", k)\n",
    "        otm_call_part = lambda k : payoff_sd(k) * swopt_fwd_price(\"Payer\", k)\n",
    "\n",
    "        # CMS Fwd price by Replication : We use -100% and 100% as boundaries of the SciPy quad integration method\n",
    "        rep_price = payoff(swap_fwd) + quad(otm_put_part, -1., swap_fwd)[0] + quad(otm_call_part, swap_fwd, 1.)[0]\n",
    "        cms_fwd = level * rep_price / df_pay_date\n",
    "\n",
    "        if payoff_type.upper()==\"FORWARD\" :\n",
    "            return {\"Swap Fwd\" : round(100 * swap_fwd, 4), \"CMS Fwd\" : round(100 * cms_fwd, 4), \"Conv. Adj.\" : round(100 * (cms_fwd - swap_fwd), 4)}\n",
    "        \n",
    "        elif payoff_type.upper()==\"CAPLET\" or payoff_type.upper()==\"FLOORLET\" :\n",
    "            # PayOff CMS Caplet functions\n",
    "            payoff = lambda s : (a * s + b) * (s - strike) if s >= strike else 0\n",
    "            payoff_d = lambda s : (2 * a * s + b - a * strike if s >= strike else 0)\n",
    "            payoff_sd = lambda s : (2 * a if s >= strike else 0)\n",
    "\n",
    "            # CMS Caplet price by Replication\n",
    "            rep_price = (a * strike + b) * swopt_fwd_price(\"Payer\", strike) + quad(otm_call_part, strike, 1)[0]\n",
    "\n",
    "            if payoff_type.upper()==\"CAPLET\" :\n",
    "                return round(level * rep_price, 4)\n",
    "            else :\n",
    "                # Call/Put Parity : CMS Floorlet price by Replication\n",
    "                return round(level * rep_price - df_pay_date * (cms_fwd - strike), 4)\n",
    "        \n",
    "        else :\n",
    "            print(\"Undefined PayOff type. Possible values : Forward, Caplet, or Floorlet.\")\n",
    "            return None"
   ]
  },
  {
   "cell_type": "markdown",
   "metadata": {
    "id": "6ovSRXZYMgvd"
   },
   "source": [
    "## Zero-Coupon Rates Curve\n",
    "\n",
    "We define a Zero-Coupon curve class to construct discount factor curves :"
   ]
  },
  {
   "cell_type": "code",
   "execution_count": 4,
   "metadata": {
    "id": "XAC5O7b7MZeT"
   },
   "outputs": [],
   "source": [
    "import numpy as np\n",
    "from scipy.interpolate import interp1d\n",
    "\n",
    "class zc_curve :\n",
    "    \"\"\"\n",
    "    Zero-Coupon Rates Curve\n",
    "    \"\"\"\n",
    "    def __init__(self, maturities, zc_rates):\n",
    "        \"\"\"\n",
    "        Init method : Takes the IR market tenors and the bootstrapped ZC rates\n",
    "        \"\"\"\n",
    "        self.maturities = maturities\n",
    "        self.zc_rates = zc_rates\n",
    "        # Cubic Interpolation & Extrapolation\n",
    "        self.zc_rates_interp = interp1d(maturities, zc_rates, kind='cubic', fill_value=\"extrapolate\")\n",
    "\n",
    "    def df(self, T):\n",
    "        \"\"\"\n",
    "        Zero-Coupon Discount Factors\n",
    "        \"\"\"\n",
    "        return np.exp(-self.zc_rates_interp(T)*T)"
   ]
  },
  {
   "cell_type": "markdown",
   "metadata": {
    "id": "r982riIrN6--"
   },
   "source": [
    "## Volatility Skew\n",
    "\n",
    "We define a Volatility Skew class to construct normal vol skews through interpolation / extrapolation methods :"
   ]
  },
  {
   "cell_type": "code",
   "execution_count": 5,
   "metadata": {
    "id": "AM2t_NuXN7MU"
   },
   "outputs": [],
   "source": [
    "class vol_skew :\n",
    "    \"\"\"\n",
    "    Normal Vol Skew\n",
    "    \"\"\"\n",
    "    def __init__(self, strikes, vol_data) :\n",
    "        \"\"\"\n",
    "        Init method : Takes the market market strikes and their implied normal volatilities\n",
    "        \"\"\"\n",
    "        self.strikes = strikes\n",
    "        self.vol_data = vol_data\n",
    "\n",
    "    def normal_vols_skew(self, strike) :\n",
    "        \"\"\"\n",
    "        A function that takes the strike as input, and output the equivalent normal_vol(expiry, strike)\n",
    "        Cubic interpolation & Linear extrapolation\n",
    "        \"\"\"\n",
    "        if strike < self.strikes[0] or strike > self.strikes[-1] :\n",
    "            return interp1d(self.strikes, self.vol_data, kind='linear', fill_value=\"extrapolate\")(strike)\n",
    "        return interp1d(self.strikes, self.vol_data, kind='cubic', fill_value=\"extrapolate\")(strike)"
   ]
  },
  {
   "cell_type": "markdown",
   "metadata": {
    "id": "GIEk2qKlj-7J"
   },
   "source": [
    "## Application\n",
    "\n",
    "Let us compute EUR 10Y CMS forwards and EUR 10Y CMS Caplets / Floorlets fixed in 5Y and paid in 6Y, asof 1st Febrary 2024 :"
   ]
  },
  {
   "cell_type": "code",
   "execution_count": 6,
   "metadata": {
    "colab": {
     "base_uri": "https://localhost:8080/"
    },
    "id": "PXuohVxvqFZY",
    "outputId": "5a372796-487b-4a50-88a0-7d75f278fbac"
   },
   "outputs": [
    {
     "name": "stdout",
     "output_type": "stream",
     "text": [
      "5Yx10Y CMS Convexity Ajustment (%) : {'Swap Fwd': 2.6873, 'CMS Fwd': 2.8742, 'Conv. Adj.': 0.1869}\n"
     ]
    }
   ],
   "source": [
    "# IR yield curve asof 1st Febrary 2024 (EURIBOR 6M)\n",
    "maturities = np.array([0.5, 1, 2, 5, 6, 8, 10, 15, 20, 30])\n",
    "zc_rates = np.array([3.84, 3.41, 2.84, 2.48, 2.47, 2.49, 2.52, 2.6, 2.53, 2.28]) / 100\n",
    "yc = zc_curve(maturities, zc_rates)\n",
    "\n",
    "# Normal Market Volatilities asof 1st Febrary 2024 (EURIBOR 6M) : Expiry 5Y x Tenor 10Y\n",
    "expiry = 5.\n",
    "tenor = 10.\n",
    "pay_date = 6.\n",
    "strikes_5y10y = np.array([1.18, 1.68, 2.18, 2.68, 3.68, 4.68, 5.18]) / 100.\n",
    "normal_vols_5y10y = np.array([84.70, 83.81, 83.76, 84.74, 89.82, 98.07, 102.91]) / 10000.\n",
    "vol_skew_5y10y = lambda k : vol_skew(strikes_5y10y, normal_vols_5y10y).normal_vols_skew(k)\n",
    "\n",
    "# TSR Model : Swap 5Yx10Y to be paid in 6Y\n",
    "tsr = tsr_model(yc.df)\n",
    "tsr_coeffs = tsr.tsr_coeffs(expiry, tenor, pay_date)\n",
    "\n",
    "# CMS Convexity Adjustment : Swap 5Yx10Y to be paid in 6Y\n",
    "rep_method = replication_method(tsr)\n",
    "replication_result = rep_method.replication_price(\"Forward\", expiry, tenor, pay_date, vol_skew_5y10y)\n",
    "print(\"5Yx10Y CMS Convexity Ajustment (%) :\", replication_result)"
   ]
  },
  {
   "cell_type": "code",
   "execution_count": 7,
   "metadata": {
    "colab": {
     "base_uri": "https://localhost:8080/"
    },
    "id": "s1hRWzzHWXMm",
    "outputId": "bda10c0a-09ae-42cf-9d46-144c4993173d"
   },
   "outputs": [
    {
     "name": "stdout",
     "output_type": "stream",
     "text": [
      "The ATM 5Yx10Y CMS Caplet & Floorlet prices :\n",
      "----------------------------------------------------\n",
      "Caplet price (Bps) :  67.0\n",
      "Floorlet price (Bps) :  67.0\n"
     ]
    }
   ],
   "source": [
    "# ATM 5Yx10Y CMS Caplet & Floorlet with a payment date of 6Y\n",
    "print(\"The ATM 5Yx10Y CMS Caplet & Floorlet prices :\")\n",
    "print(\"----------------------------------------------------\")\n",
    "print(\"Caplet price (Bps) : \", 10000. * rep_method.replication_price(\"Caplet\", expiry, tenor, pay_date, vol_skew_5y10y, replication_result[\"CMS Fwd\"] / 100))\n",
    "print(\"Floorlet price (Bps) : \", 10000. * rep_method.replication_price(\"Floorlet\", expiry, tenor, pay_date, vol_skew_5y10y, replication_result[\"CMS Fwd\"] / 100))"
   ]
  },
  {
   "cell_type": "code",
   "execution_count": 8,
   "metadata": {
    "colab": {
     "base_uri": "https://localhost:8080/"
    },
    "id": "M8wJng1hXM8I",
    "outputId": "b74ab6b5-38b4-4ed5-b44a-189b5f054cd3"
   },
   "outputs": [
    {
     "name": "stdout",
     "output_type": "stream",
     "text": [
      "The 5Yx10Y CMS Caplet & Floorlet prices with a strike of 0.02 :\n",
      "-------------------------------------------------------------\n",
      "Caplet price (Bps) :  110.0\n",
      "Floorlet price (Bps) :  34.0\n"
     ]
    }
   ],
   "source": [
    "# 5Yx10Y CMS Caplet & Floorlet with a payment date of 6Y and a strike != ATM\n",
    "strike = 0.02\n",
    "print(\"The 5Yx10Y CMS Caplet & Floorlet prices with a strike of {} :\".format(strike))\n",
    "print(\"-------------------------------------------------------------\")\n",
    "print(\"Caplet price (Bps) : \", 10000. * rep_method.replication_price(\"Caplet\", expiry, tenor, pay_date, vol_skew_5y10y, strike))\n",
    "print(\"Floorlet price (Bps) : \", 10000. * rep_method.replication_price(\"Floorlet\", expiry, tenor, pay_date, vol_skew_5y10y, strike))"
   ]
  }
 ],
 "metadata": {
  "colab": {
   "provenance": []
  },
  "kernelspec": {
   "display_name": "Python 3 (ipykernel)",
   "language": "python",
   "name": "python3"
  },
  "language_info": {
   "codemirror_mode": {
    "name": "ipython",
    "version": 3
   },
   "file_extension": ".py",
   "mimetype": "text/x-python",
   "name": "python",
   "nbconvert_exporter": "python",
   "pygments_lexer": "ipython3",
   "version": "3.9.12"
  }
 },
 "nbformat": 4,
 "nbformat_minor": 1
}
